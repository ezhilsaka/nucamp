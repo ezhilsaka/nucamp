{
  "cells": [
    {
      "cell_type": "markdown",
      "source": [
        "# Week 4 Workshop Assignment Notebook\n",
        "`  `"
      ],
      "metadata": {
        "id": "RufbmPsDHQLB"
      }
    },
    {
      "cell_type": "markdown",
      "source": [
        "\n",
        "\n",
        "---\n",
        "\n",
        "\n",
        "## ENVIRONMENT SETUP\n",
        "Before you run any cells in this Notebook, make sure that you have uploaded **momaviz.sql** via this Notebook's file browser. Refresh the file browser and make sure you see it there. Then, run the cells below, one by one. \n",
        "\n",
        "If afterward at any point, your connection to the runtime is lost, make sure once you re-connect that the **momaviz.sql** file still exists in the file browser. If it no longer exists, upload it again. If any of the green check marks are gone next to the code cells in this ENVIRONMENT SETUP section, start from the top and re-run all the cells in this section.\n",
        "\n",
        "The code cells within the section for each task can be run independently of each other, as long as all ENVIRONMENT SETUP cells have been run. "
      ],
      "metadata": {
        "id": "x8hP2gDry_oJ"
      }
    },
    {
      "cell_type": "markdown",
      "source": [
        "The following cell is used to install and start a Postgres server:"
      ],
      "metadata": {
        "id": "vD5kZibDyr8g"
      }
    },
    {
      "cell_type": "code",
      "execution_count": null,
      "metadata": {
        "id": "MzIgeOqI6A3p"
      },
      "outputs": [],
      "source": [
        "!sudo apt-get -y -qq update\n",
        "!sudo apt-get -y -qq install postgresql\n",
        "!sudo service postgresql start"
      ]
    },
    {
      "cell_type": "markdown",
      "source": [
        "The next two cells will drop the **moma** database on that Postgres server, if it exists, and create a new one:"
      ],
      "metadata": {
        "id": "Og0Z7ICKyy6L"
      }
    },
    {
      "cell_type": "code",
      "execution_count": null,
      "metadata": {
        "id": "VsORDUGE7yvq"
      },
      "outputs": [],
      "source": [
        "!sudo -u postgres psql -c 'DROP DATABASE IF EXISTS moma;'"
      ]
    },
    {
      "cell_type": "code",
      "execution_count": null,
      "metadata": {
        "id": "Rf0T7CvYhXUF"
      },
      "outputs": [],
      "source": [
        "!sudo -u postgres psql -c 'CREATE DATABASE moma;'"
      ]
    },
    {
      "cell_type": "markdown",
      "source": [
        "Next, run the following cell to add data from moma_viz.sql to the moma database:"
      ],
      "metadata": {
        "id": "3apAwDu-y744"
      }
    },
    {
      "cell_type": "code",
      "execution_count": null,
      "metadata": {
        "id": "IKs9nbWB-pUh"
      },
      "outputs": [],
      "source": [
        "!sudo -u postgres psql moma < momaviz.sql"
      ]
    },
    {
      "cell_type": "markdown",
      "source": [
        "Run the following cell to update the default password for the Postgres database:"
      ],
      "metadata": {
        "id": "j_ye3c5uzzMo"
      }
    },
    {
      "cell_type": "code",
      "execution_count": null,
      "metadata": {
        "id": "5KCTR6euH4fm"
      },
      "outputs": [],
      "source": [
        "!sudo -u postgres psql -U postgres -c \"ALTER USER postgres PASSWORD 'postgres';\""
      ]
    },
    {
      "cell_type": "markdown",
      "source": [
        "Finally, run the following cell to import the packages you'll use in this exercise, and open a database connection and cursor to the Postgres server with psycopg. You will see a UserWarning about the psycopg2 wheel package. You can ignore this warning, as long as you see a green check mark after running the cell."
      ],
      "metadata": {
        "id": "pAK_iAvVz7U0"
      }
    },
    {
      "cell_type": "code",
      "execution_count": null,
      "metadata": {
        "id": "55BiOvwFxjE7"
      },
      "outputs": [],
      "source": [
        "import psycopg2\n",
        "import pandas as pd\n",
        "import numpy as np\n",
        "import matplotlib.pyplot as plt\n",
        "\n",
        "conn = psycopg2.connect(\"dbname=moma user=postgres password=postgres host=localhost port=5432\")\n",
        "conn.set_session(autocommit=True)\n",
        "\n",
        "cur = conn.cursor()"
      ]
    },
    {
      "cell_type": "markdown",
      "source": [
        "Run the following cell to make available the same sql_to_df function you have used in this week's exercises:"
      ],
      "metadata": {
        "id": "RWNA6Gxv2HDF"
      }
    },
    {
      "cell_type": "code",
      "source": [
        "def sql_to_df(sql_query: str):\n",
        "    \"\"\"Get result set of sql_query as a pandas DataFrame.\"\"\"\n",
        "    return pd.read_sql(sql_query, conn)"
      ],
      "metadata": {
        "id": "yHUsiQ9oon-b"
      },
      "execution_count": null,
      "outputs": []
    },
    {
      "cell_type": "markdown",
      "source": [
        "`  `\n",
        "\n",
        "---\n",
        "\n",
        "\n",
        "## TASK 1 - ARTWORKS BY DEPARTMENT"
      ],
      "metadata": {
        "id": "18FUBGx9EB7d"
      }
    },
    {
      "cell_type": "markdown",
      "source": [
        "Run the following cell to test the SQL query you devised in Task 1: Part 1. \n",
        "For this task, the query has been provided for you as an example, so you do not need to do anything except run the cell. And of course, examine the query and do your best to understand how it works!"
      ],
      "metadata": {
        "id": "Fu_IcUqh-hPo"
      }
    },
    {
      "cell_type": "code",
      "execution_count": null,
      "metadata": {
        "id": "0-UDhQFu1cDP"
      },
      "outputs": [],
      "source": [
        "# Task 1: Part 2 - Test your query\n",
        "\n",
        "cur.execute(\n",
        "    \"\"\"\n",
        "    SELECT department, COUNT(*)\n",
        "    FROM moma_works\n",
        "    GROUP BY department\n",
        "    ORDER BY count DESC;\n",
        "    \"\"\"\n",
        ")\n",
        "\n",
        "works = cur.fetchall()\n",
        "for w in works:\n",
        "  print(w)"
      ]
    },
    {
      "cell_type": "markdown",
      "source": [
        "Take the query (the part inside the multiline string (\"\"\" \"\"\") in the previous cell) and paste it inside the multiline string (\"\"\" \"\"\") in the next cell, then run it:"
      ],
      "metadata": {
        "id": "Hqf-em7h_52m"
      }
    },
    {
      "cell_type": "code",
      "execution_count": null,
      "metadata": {
        "id": "44DuYJwc9kG0"
      },
      "outputs": [],
      "source": [
        "# Task 1: Part 3 - Data visualization\n",
        "\n",
        "title = \"Artworks by Department\"\n",
        "query = \"\"\"\n",
        "\n",
        "        \"\"\"\n",
        "\n",
        "dataframe = sql_to_df(query)\n",
        "_fig, axes = plt.subplots(figsize=(10, 5))\n",
        "axes.set_title(title, fontsize=14)\n",
        "\n",
        "# get evenly spaced x-axis positions\n",
        "xpos = np.arange(len(dataframe))\n",
        "# at each x, add bar (height based on count data)\n",
        "axes.bar(xpos, dataframe[\"count\"], width=0.50)\n",
        "# at each x, add tick mark\n",
        "axes.set_xticks(xpos)\n",
        "# at each x, add label based on dept data\n",
        "axes.set_xticklabels(dataframe[\"department\"])\n",
        "# label y-axis\n",
        "axes.set_ylabel(\"Count\", fontsize=12)\n",
        "# rotate x-axis labels to prevent overlap\n",
        "plt.setp(axes.get_xticklabels(), rotation=30, horizontalalignment='right')\n",
        "\n",
        "plt.show()"
      ]
    },
    {
      "cell_type": "markdown",
      "source": [
        "`  `\n",
        "\n",
        "---\n",
        "## TASK 2 - ARTISTS BY CLASSIFICATION"
      ],
      "metadata": {
        "id": "gVlIJQy6C0Z6"
      }
    },
    {
      "cell_type": "markdown",
      "source": [
        "Task 2: Part 1 in the workshop assignment instructions provides you with a description of an SQL query to construct.\n",
        "Once you are ready to test your query, enter it inside the multiline string of the code cell below, and run it. "
      ],
      "metadata": {
        "id": "852pH3xIH5_v"
      }
    },
    {
      "cell_type": "code",
      "source": [
        "# Task 2: Part 2 - Test your query\n",
        "\n",
        "cur.execute(\n",
        "    \"\"\"\n",
        "\n",
        "    \"\"\"\n",
        ")\n",
        "\n",
        "works = cur.fetchall()\n",
        "for w in works:\n",
        "  print(w)"
      ],
      "metadata": {
        "id": "2JC59qtpEUQB"
      },
      "execution_count": null,
      "outputs": []
    },
    {
      "cell_type": "code",
      "execution_count": null,
      "metadata": {
        "id": "L-EmRSxf9pok"
      },
      "outputs": [],
      "source": [
        "# Task 2: Part 3 - Data visualization\n",
        "\n",
        "title = \"Artworks by Classification\"\n",
        "query = \"\"\"\n",
        "\n",
        "        \"\"\"\n",
        "\n",
        "dataframe = sql_to_df(query)\n",
        "_fig, axes = plt.subplots(figsize=(10, 5))\n",
        "axes.set_title(title, fontsize=14)\n",
        "\n",
        "xpos = np.arange(len(dataframe))\n",
        "axes.bar(xpos, dataframe[\"count\"], width=0.50)\n",
        "axes.set_xticks(xpos)\n",
        "axes.set_xticklabels(dataframe[\"classification\"])\n",
        "axes.set_ylabel(\"Count\", fontsize=12)\n",
        "plt.setp(axes.get_xticklabels(), rotation=30, horizontalalignment='right')\n",
        "\n",
        "plt.show()"
      ]
    },
    {
      "cell_type": "markdown",
      "source": [
        "`  `\n",
        "\n",
        "---\n",
        "## TASK 3 - ARTISTS BY NATIONALITY"
      ],
      "metadata": {
        "id": "9hcf9P3XLkLF"
      }
    },
    {
      "cell_type": "code",
      "source": [
        "# Task 3: Part 2 - Test your query\n",
        "\n",
        "cur.execute(\n",
        "    \"\"\"\n",
        "\n",
        "    \"\"\"\n",
        ")\n",
        "\n",
        "artists = cur.fetchall()\n",
        "for a in artists:\n",
        "  print(a)"
      ],
      "metadata": {
        "id": "WzP3f6gcLnFA"
      },
      "execution_count": null,
      "outputs": []
    },
    {
      "cell_type": "code",
      "execution_count": null,
      "metadata": {
        "id": "IO9rQNFv9teL"
      },
      "outputs": [],
      "source": [
        "# Task 3: Part 3 - Data visualization\n",
        "\n",
        "title = \"Artists by Nationality\"\n",
        "query = \"\"\"\n",
        "\n",
        "        \"\"\"\n",
        "\n",
        "dataframe = sql_to_df(query)\n",
        "_fig, axes = plt.subplots(figsize=(10, 5))\n",
        "axes.set_title(title, fontsize=14)\n",
        "\n",
        "xpos = np.arange(len(dataframe))\n",
        "axes.bar(xpos, dataframe[\"count\"], width=0.50)\n",
        "axes.set_xticks(xpos)\n",
        "axes.set_xticklabels(dataframe[\"nationality\"])\n",
        "axes.set_ylabel(\"Count\", fontsize=12)\n",
        "\n",
        "plt.show()"
      ]
    },
    {
      "cell_type": "markdown",
      "source": [
        "`  `\n",
        "\n",
        "---\n",
        "## TASK 4 - ARTISTS BY GENDER"
      ],
      "metadata": {
        "id": "D60OIxMYPmGy"
      }
    },
    {
      "cell_type": "code",
      "source": [
        "# Task 4: Part 2 - Test your query\n",
        "\n",
        "cur.execute(\n",
        "    \"\"\"\n",
        "\n",
        "    \"\"\"\n",
        ")\n",
        "\n",
        "artists = cur.fetchall()\n",
        "for a in artists:\n",
        "  print(a)"
      ],
      "metadata": {
        "id": "uuX86DATPqd1"
      },
      "execution_count": null,
      "outputs": []
    },
    {
      "cell_type": "code",
      "execution_count": null,
      "metadata": {
        "id": "YaqHQMFF9umf"
      },
      "outputs": [],
      "source": [
        "# Task 4: Part 3 - Data visualization\n",
        "\n",
        "title = \"Artists by Gender\"\n",
        "query = \"\"\"\n",
        "\n",
        "        \"\"\"\n",
        "\n",
        "dataframe = sql_to_df(query)\n",
        "fig, axes = plt.subplots(figsize=(10, 5))\n",
        "axes.set_title(title, fontsize=14)\n",
        "\n",
        "fig.set_facecolor('white')\n",
        "axes.pie(\n",
        "    x=dataframe[\"count\"],\n",
        "    labels=dataframe[\"gender\"],\n",
        "    autopct='%1.1f%%',\n",
        "    colors=['lightcoral', 'skyblue', 'lavender']\n",
        ")\n",
        "# Equal aspect ratio ensures that pie is drawn as a circle.\n",
        "axes.axis('equal')\n",
        "\n",
        "plt.show()"
      ]
    },
    {
      "cell_type": "markdown",
      "source": [
        "`  `\n",
        "\n",
        "---\n",
        "## TASK 5 - BONUS\n",
        "\n",
        "This is an optional task. For this task, the code has been completed for you. Your task is to run the cell, examine the SQL query and the results, and come up with an appropriate title and assign it to the value of the title variable. You can compare it with the solution shown in the bonus task instructions. "
      ],
      "metadata": {
        "id": "h7bDTe79a1oz"
      }
    },
    {
      "cell_type": "code",
      "execution_count": null,
      "metadata": {
        "id": "eXeFvduF9y74"
      },
      "outputs": [],
      "source": [
        "# BONUS TASK 5\n",
        "\n",
        "title = \"\"\n",
        "query = \"\"\"\n",
        "        WITH daily_acquisition_count AS (\n",
        "            SELECT date_acquired, COUNT(*) FROM moma_works \n",
        "            WHERE date_acquired IS NOT NULL \n",
        "            GROUP BY date_acquired\n",
        "        )\n",
        "        SELECT date_acquired, SUM(count) \n",
        "        OVER (ORDER BY date_acquired) FROM daily_acquisition_count;\n",
        "        \"\"\"\n",
        "dataframe = sql_to_df(query)\n",
        "_fig, axes = plt.subplots(figsize=(10, 5))\n",
        "axes.set_title(title, fontsize=14)\n",
        "\n",
        "xpos = np.arange(len(dataframe))\n",
        "axes.bar(xpos, dataframe[\"sum\"], width=0.50)\n",
        "axes.set_xticks([\n",
        "    0,\n",
        "    len(dataframe) // 2,\n",
        "    len(dataframe)\n",
        "])\n",
        "axes.set_xticklabels(dataframe.iloc[[\n",
        "    0,\n",
        "    len(dataframe) // 2,\n",
        "    -1\n",
        "]][\"date_acquired\"])\n",
        "axes.set_ylabel(\"Count\", fontsize=12)\n",
        "\n",
        "plt.show()"
      ]
    },
    {
      "cell_type": "markdown",
      "source": [
        "`  `\n",
        "\n",
        "\n",
        "\n",
        "---\n",
        "\n",
        "## SUBMISSION\n",
        "Once all non-bonus tasks are completed, download the .py version of this Notebook to your computer by going to **File > Download > Download .py**. Submit the downloaded **moma_viz.py** file in the learning portal."
      ],
      "metadata": {
        "id": "3pKadREmbR8M"
      }
    }
  ],
  "metadata": {
    "colab": {
      "name": "moma_viz.ipynb",
      "provenance": [],
      "toc_visible": true,
      "collapsed_sections": []
    },
    "kernelspec": {
      "display_name": "Python 3",
      "language": "python",
      "name": "python3"
    },
    "language_info": {
      "codemirror_mode": {
        "name": "ipython",
        "version": 3
      },
      "file_extension": ".py",
      "mimetype": "text/x-python",
      "name": "python",
      "nbconvert_exporter": "python",
      "pygments_lexer": "ipython3",
      "version": "3.6.4"
    }
  },
  "nbformat": 4,
  "nbformat_minor": 0
}