{
  "cells": [
    {
      "cell_type": "code",
      "source": [
        "!unzip sounds.zip"
      ],
      "metadata": {
        "id": "ITiLkkOnDafZ"
      },
      "execution_count": null,
      "outputs": []
    },
    {
      "cell_type": "code",
      "execution_count": 2,
      "metadata": {
        "id": "Esw7KpneBMgZ"
      },
      "outputs": [],
      "source": [
        "import numpy as np\n",
        "import matplotlib.pyplot as plt\n",
        "import wave\n",
        "import glob\n",
        "import os.path\n",
        "import random"
      ]
    },
    {
      "cell_type": "code",
      "execution_count": null,
      "metadata": {
        "id": "A2rmFV3fBMgc"
      },
      "outputs": [],
      "source": [
        "soundfile_1 = wave.open('sounds/1_george_12.wav', 'r')\n",
        "print(soundfile_1)"
      ]
    },
    {
      "cell_type": "code",
      "execution_count": 4,
      "metadata": {
        "id": "eBGF2DTcBMgc"
      },
      "outputs": [],
      "source": [
        "buf = soundfile_1.readframes(-1)"
      ]
    },
    {
      "cell_type": "code",
      "execution_count": 5,
      "metadata": {
        "id": "vfTHysU0BMge"
      },
      "outputs": [],
      "source": [
        "data_1 = np.frombuffer(buf, 'int16')"
      ]
    },
    {
      "cell_type": "code",
      "execution_count": 6,
      "metadata": {
        "id": "EtiqQwDvBMgf"
      },
      "outputs": [],
      "source": [
        "rate_1 = soundfile_1.getframerate()"
      ]
    },
    {
      "cell_type": "code",
      "execution_count": 7,
      "metadata": {
        "id": "kc8S1rB-BMgh"
      },
      "outputs": [],
      "source": [
        "xValues_1 = np.linspace(start=0,\n",
        "                        stop=len(data_1)/rate_1,\n",
        "                        num=len(data_1))"
      ]
    },
    {
      "cell_type": "code",
      "execution_count": null,
      "metadata": {
        "id": "Dq-hSiq2BMgh"
      },
      "outputs": [],
      "source": [
        "plt.plot(xValues_1, data_1)\n",
        "plt.title('one sound file')\n",
        "plt.xlabel('time')\n",
        "plt.ylabel('amp')"
      ]
    },
    {
      "cell_type": "code",
      "execution_count": null,
      "metadata": {
        "id": "9wcz5rr_BMgi"
      },
      "outputs": [],
      "source": [
        "plt.specgram(data_1, Fs=rate_1)"
      ]
    },
    {
      "cell_type": "code",
      "execution_count": 11,
      "metadata": {
        "id": "FjAWCViOBMgj"
      },
      "outputs": [],
      "source": [
        "def getSoundData(sf):\n",
        "    data = sf.readframes(-1)\n",
        "    data = np.frombuffer(data, 'int16')\n",
        "    rate = sf.getframerate()\n",
        "    timescale = np.linspace(start=0,\n",
        "                            stop=len(data)/rate,\n",
        "                            num=len(data))\n",
        "    return (timescale, data)"
      ]
    },
    {
      "cell_type": "code",
      "execution_count": null,
      "metadata": {
        "id": "nRzFC919BMgj"
      },
      "outputs": [],
      "source": [
        "# a python list to store our collection of sound file data\n",
        "sound_files_datas = []\n",
        "# use glob to import all the sounds from the sounds folder\n",
        "# then loop over each sound and add the data to our list\n",
        "for file in glob.glob('sounds/*.wav'):\n",
        "    soundfile = wave.open(file, 'r')\n",
        "    sound_files_datas.append(getSoundData(soundfile))\n",
        "\n",
        "print(len(sound_files_datas))"
      ]
    },
    {
      "cell_type": "code",
      "execution_count": null,
      "metadata": {
        "id": "n66hb6YEBMgk"
      },
      "outputs": [],
      "source": [
        "rows, cols = 3, 5\n",
        "fig, ax = plt.subplots(rows, cols, sharex='col', sharey='row')\n",
        "\n",
        "rowCount = 0\n",
        "colCount = 0\n",
        "\n",
        "for sf_data in sound_files_datas:\n",
        "    timescale, data = sf_data\n",
        "    ax[rowCount, colCount].plot(timescale, data, c=(\n",
        "        random.random(), random.random(), random.random()))\n",
        "    if colCount < 4:\n",
        "        colCount += 1\n",
        "    else:\n",
        "        rowCount += 1\n",
        "        colCount = 0"
      ]
    },
    {
      "cell_type": "code",
      "execution_count": null,
      "metadata": {
        "id": "mf7ZG0qbBMgl"
      },
      "outputs": [],
      "source": [
        "rows, cols = 3, 5\n",
        "fig, ax = plt.subplots(rows, cols, sharex='col', sharey='row')\n",
        "fig.set_size_inches(10, 10)\n",
        "rowCount = 0\n",
        "colCount = 0\n",
        "\n",
        "for sf_data in sound_files_datas:\n",
        "    timescale, data = sf_data\n",
        "    ax[rowCount, colCount].specgram(data, Fs = 2)\n",
        "\n",
        "    if colCount < 4:\n",
        "        colCount += 1\n",
        "    else:\n",
        "        rowCount += 1\n",
        "        colCount = 0"
      ]
    }
  ],
  "metadata": {
    "kernelspec": {
      "display_name": "Python 3",
      "language": "python",
      "name": "python3"
    },
    "language_info": {
      "codemirror_mode": {
        "name": "ipython",
        "version": 3
      },
      "file_extension": ".py",
      "mimetype": "text/x-python",
      "name": "python",
      "nbconvert_exporter": "python",
      "pygments_lexer": "ipython3",
      "version": "3.6.4"
    },
    "colab": {
      "name": "sounds.ipynb",
      "provenance": []
    }
  },
  "nbformat": 4,
  "nbformat_minor": 0
}